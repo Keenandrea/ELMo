{
  "nbformat": 4,
  "nbformat_minor": 0,
  "metadata": {
    "colab": {
      "name": "ELMo.ipynb",
      "version": "0.3.2",
      "provenance": [],
      "collapsed_sections": [],
      "include_colab_link": true
    },
    "kernelspec": {
      "name": "python3",
      "display_name": "Python 3"
    },
    "accelerator": "GPU"
  },
  "cells": [
    {
      "cell_type": "markdown",
      "metadata": {
        "id": "view-in-github",
        "colab_type": "text"
      },
      "source": [
        "<a href=\"https://colab.research.google.com/github/Keenandrea/ELMo/blob/master/ELMo.ipynb\" target=\"_parent\"><img src=\"https://colab.research.google.com/assets/colab-badge.svg\" alt=\"Open In Colab\"/></a>"
      ]
    },
    {
      "cell_type": "markdown",
      "metadata": {
        "id": "sECvS25vxzcn",
        "colab_type": "text"
      },
      "source": [
        "# ELMo: Embeddings from Language Models \n",
        "\n",
        "---\n",
        "\n"
      ]
    },
    {
      "cell_type": "code",
      "metadata": {
        "id": "-ftkimiBxSEe",
        "colab_type": "code",
        "colab": {}
      },
      "source": [
        "import pandas as pd\n",
        "import numpy as np\n",
        "import spacy\n",
        "from tqdm import tqdm\n",
        "import re\n",
        "import time\n",
        "import pickle"
      ],
      "execution_count": 0,
      "outputs": []
    },
    {
      "cell_type": "code",
      "metadata": {
        "id": "Ca01VacMych2",
        "colab_type": "code",
        "outputId": "c10b70b1-25e8-4079-cd08-61271ac54579",
        "colab": {
          "base_uri": "https://localhost:8080/",
          "height": 34
        }
      },
      "source": [
        "train = pd.read_csv(\"train_2kmZucJ.csv\")\n",
        "test = pd.read_csv(\"test_oJQbWVk.csv\")\n",
        "\n",
        "train.shape, test.shape"
      ],
      "execution_count": 0,
      "outputs": [
        {
          "output_type": "execute_result",
          "data": {
            "text/plain": [
              "((7920, 3), (1953, 2))"
            ]
          },
          "metadata": {
            "tags": []
          },
          "execution_count": 2
        }
      ]
    },
    {
      "cell_type": "markdown",
      "metadata": {
        "id": "0_CvTP6pTXsm",
        "colab_type": "text"
      },
      "source": [
        "Let's run the two cells below to check the class distribution in the train set and test set:"
      ]
    },
    {
      "cell_type": "code",
      "metadata": {
        "id": "CxDncbX_TWNM",
        "colab_type": "code",
        "outputId": "0de415bc-2c08-4bef-f447-ec0783904c3d",
        "colab": {
          "base_uri": "https://localhost:8080/",
          "height": 68
        }
      },
      "source": [
        "train['label'].value_counts(normalize = True)"
      ],
      "execution_count": 0,
      "outputs": [
        {
          "output_type": "execute_result",
          "data": {
            "text/plain": [
              "0    0.744192\n",
              "1    0.255808\n",
              "Name: label, dtype: float64"
            ]
          },
          "metadata": {
            "tags": []
          },
          "execution_count": 3
        }
      ]
    },
    {
      "cell_type": "markdown",
      "metadata": {
        "id": "LetnvS3mUFke",
        "colab_type": "text"
      },
      "source": [
        "The zero on the lefthand-side represents a non-negative tweet, while the one represents a negative tweet.\n",
        "\n",
        "Let's peep into the first five rows of our train set:"
      ]
    },
    {
      "cell_type": "code",
      "metadata": {
        "id": "mYTiqMYsUTHT",
        "colab_type": "code",
        "outputId": "26ffe30b-dc48-4aca-c593-c44ae013e2b8",
        "colab": {
          "base_uri": "https://localhost:8080/",
          "height": 204
        }
      },
      "source": [
        "train.head()"
      ],
      "execution_count": 0,
      "outputs": [
        {
          "output_type": "execute_result",
          "data": {
            "text/html": [
              "<div>\n",
              "<style scoped>\n",
              "    .dataframe tbody tr th:only-of-type {\n",
              "        vertical-align: middle;\n",
              "    }\n",
              "\n",
              "    .dataframe tbody tr th {\n",
              "        vertical-align: top;\n",
              "    }\n",
              "\n",
              "    .dataframe thead th {\n",
              "        text-align: right;\n",
              "    }\n",
              "</style>\n",
              "<table border=\"1\" class=\"dataframe\">\n",
              "  <thead>\n",
              "    <tr style=\"text-align: right;\">\n",
              "      <th></th>\n",
              "      <th>id</th>\n",
              "      <th>label</th>\n",
              "      <th>tweet</th>\n",
              "    </tr>\n",
              "  </thead>\n",
              "  <tbody>\n",
              "    <tr>\n",
              "      <th>0</th>\n",
              "      <td>1</td>\n",
              "      <td>0</td>\n",
              "      <td>#fingerprint #Pregnancy Test https://goo.gl/h1...</td>\n",
              "    </tr>\n",
              "    <tr>\n",
              "      <th>1</th>\n",
              "      <td>2</td>\n",
              "      <td>0</td>\n",
              "      <td>Finally a transparant silicon case ^^ Thanks t...</td>\n",
              "    </tr>\n",
              "    <tr>\n",
              "      <th>2</th>\n",
              "      <td>3</td>\n",
              "      <td>0</td>\n",
              "      <td>We love this! Would you go? #talk #makememorie...</td>\n",
              "    </tr>\n",
              "    <tr>\n",
              "      <th>3</th>\n",
              "      <td>4</td>\n",
              "      <td>0</td>\n",
              "      <td>I'm wired I know I'm George I was made that wa...</td>\n",
              "    </tr>\n",
              "    <tr>\n",
              "      <th>4</th>\n",
              "      <td>5</td>\n",
              "      <td>1</td>\n",
              "      <td>What amazing service! Apple won't even talk to...</td>\n",
              "    </tr>\n",
              "  </tbody>\n",
              "</table>\n",
              "</div>"
            ],
            "text/plain": [
              "   id  label                                              tweet\n",
              "0   1      0  #fingerprint #Pregnancy Test https://goo.gl/h1...\n",
              "1   2      0  Finally a transparant silicon case ^^ Thanks t...\n",
              "2   3      0  We love this! Would you go? #talk #makememorie...\n",
              "3   4      0  I'm wired I know I'm George I was made that wa...\n",
              "4   5      1  What amazing service! Apple won't even talk to..."
            ]
          },
          "metadata": {
            "tags": []
          },
          "execution_count": 4
        }
      ]
    },
    {
      "cell_type": "markdown",
      "metadata": {
        "id": "zDikcbavUd5L",
        "colab_type": "text"
      },
      "source": [
        "Then the first five rows of our test set:"
      ]
    },
    {
      "cell_type": "code",
      "metadata": {
        "id": "DD0QLVQJUgL6",
        "colab_type": "code",
        "outputId": "a77021a0-64b0-480f-bb1c-66974bcfa5d6",
        "colab": {
          "base_uri": "https://localhost:8080/",
          "height": 204
        }
      },
      "source": [
        "test.head()"
      ],
      "execution_count": 0,
      "outputs": [
        {
          "output_type": "execute_result",
          "data": {
            "text/html": [
              "<div>\n",
              "<style scoped>\n",
              "    .dataframe tbody tr th:only-of-type {\n",
              "        vertical-align: middle;\n",
              "    }\n",
              "\n",
              "    .dataframe tbody tr th {\n",
              "        vertical-align: top;\n",
              "    }\n",
              "\n",
              "    .dataframe thead th {\n",
              "        text-align: right;\n",
              "    }\n",
              "</style>\n",
              "<table border=\"1\" class=\"dataframe\">\n",
              "  <thead>\n",
              "    <tr style=\"text-align: right;\">\n",
              "      <th></th>\n",
              "      <th>id</th>\n",
              "      <th>tweet</th>\n",
              "    </tr>\n",
              "  </thead>\n",
              "  <tbody>\n",
              "    <tr>\n",
              "      <th>0</th>\n",
              "      <td>7921</td>\n",
              "      <td>I hate the new #iphone upgrade. Won't let me d...</td>\n",
              "    </tr>\n",
              "    <tr>\n",
              "      <th>1</th>\n",
              "      <td>7922</td>\n",
              "      <td>currently shitting my fucking pants. #apple #i...</td>\n",
              "    </tr>\n",
              "    <tr>\n",
              "      <th>2</th>\n",
              "      <td>7923</td>\n",
              "      <td>I'd like to puts some CD-ROMS on my iPad, is t...</td>\n",
              "    </tr>\n",
              "    <tr>\n",
              "      <th>3</th>\n",
              "      <td>7924</td>\n",
              "      <td>My ipod is officially dead. I lost all my pict...</td>\n",
              "    </tr>\n",
              "    <tr>\n",
              "      <th>4</th>\n",
              "      <td>7925</td>\n",
              "      <td>Been fighting iTunes all night! I only want th...</td>\n",
              "    </tr>\n",
              "  </tbody>\n",
              "</table>\n",
              "</div>"
            ],
            "text/plain": [
              "     id                                              tweet\n",
              "0  7921  I hate the new #iphone upgrade. Won't let me d...\n",
              "1  7922  currently shitting my fucking pants. #apple #i...\n",
              "2  7923  I'd like to puts some CD-ROMS on my iPad, is t...\n",
              "3  7924  My ipod is officially dead. I lost all my pict...\n",
              "4  7925  Been fighting iTunes all night! I only want th..."
            ]
          },
          "metadata": {
            "tags": []
          },
          "execution_count": 5
        }
      ]
    },
    {
      "cell_type": "markdown",
      "metadata": {
        "id": "4M8RfsZTUmUM",
        "colab_type": "text"
      },
      "source": [
        "Our target variable for our test set is the column entitled *label*, while the independent variable is the column *tweet*.\n",
        "\n",
        "---\n",
        "\n",
        "## clean the text and preprocess the data\n",
        "\n",
        "---\n",
        "\n",
        "Any elements of our tweets that do not give us data about sentiment will be removed. First, we remove any URL links."
      ]
    },
    {
      "cell_type": "code",
      "metadata": {
        "id": "Jx4VDM4JU0WT",
        "colab_type": "code",
        "colab": {}
      },
      "source": [
        "train['clean_tweet'] = train['tweet'].apply(lambda x: re.sub(r'http\\S+', '', x))\n",
        "\n",
        "test['clean_tweet'] = test['tweet'].apply(lambda x: re.sub(r'http\\S+', '', x))"
      ],
      "execution_count": 0,
      "outputs": []
    },
    {
      "cell_type": "markdown",
      "metadata": {
        "id": "5zyCIBfRXr9t",
        "colab_type": "text"
      },
      "source": [
        "Let's look at what we've done and how this compares to see if we've gotten it right:"
      ]
    },
    {
      "cell_type": "code",
      "metadata": {
        "id": "31nm7JCJXe1d",
        "colab_type": "code",
        "outputId": "40a5950e-d979-43b9-eb86-73138401ca34",
        "colab": {
          "base_uri": "https://localhost:8080/",
          "height": 289
        }
      },
      "source": [
        "train.head()"
      ],
      "execution_count": 0,
      "outputs": [
        {
          "output_type": "execute_result",
          "data": {
            "text/html": [
              "<div>\n",
              "<style scoped>\n",
              "    .dataframe tbody tr th:only-of-type {\n",
              "        vertical-align: middle;\n",
              "    }\n",
              "\n",
              "    .dataframe tbody tr th {\n",
              "        vertical-align: top;\n",
              "    }\n",
              "\n",
              "    .dataframe thead th {\n",
              "        text-align: right;\n",
              "    }\n",
              "</style>\n",
              "<table border=\"1\" class=\"dataframe\">\n",
              "  <thead>\n",
              "    <tr style=\"text-align: right;\">\n",
              "      <th></th>\n",
              "      <th>id</th>\n",
              "      <th>label</th>\n",
              "      <th>tweet</th>\n",
              "      <th>clean_tweet</th>\n",
              "    </tr>\n",
              "  </thead>\n",
              "  <tbody>\n",
              "    <tr>\n",
              "      <th>0</th>\n",
              "      <td>1</td>\n",
              "      <td>0</td>\n",
              "      <td>#fingerprint #Pregnancy Test https://goo.gl/h1...</td>\n",
              "      <td>#fingerprint #Pregnancy Test  #android #apps #...</td>\n",
              "    </tr>\n",
              "    <tr>\n",
              "      <th>1</th>\n",
              "      <td>2</td>\n",
              "      <td>0</td>\n",
              "      <td>Finally a transparant silicon case ^^ Thanks t...</td>\n",
              "      <td>Finally a transparant silicon case ^^ Thanks t...</td>\n",
              "    </tr>\n",
              "    <tr>\n",
              "      <th>2</th>\n",
              "      <td>3</td>\n",
              "      <td>0</td>\n",
              "      <td>We love this! Would you go? #talk #makememorie...</td>\n",
              "      <td>We love this! Would you go? #talk #makememorie...</td>\n",
              "    </tr>\n",
              "    <tr>\n",
              "      <th>3</th>\n",
              "      <td>4</td>\n",
              "      <td>0</td>\n",
              "      <td>I'm wired I know I'm George I was made that wa...</td>\n",
              "      <td>I'm wired I know I'm George I was made that wa...</td>\n",
              "    </tr>\n",
              "    <tr>\n",
              "      <th>4</th>\n",
              "      <td>5</td>\n",
              "      <td>1</td>\n",
              "      <td>What amazing service! Apple won't even talk to...</td>\n",
              "      <td>What amazing service! Apple won't even talk to...</td>\n",
              "    </tr>\n",
              "  </tbody>\n",
              "</table>\n",
              "</div>"
            ],
            "text/plain": [
              "   id  ...                                        clean_tweet\n",
              "0   1  ...  #fingerprint #Pregnancy Test  #android #apps #...\n",
              "1   2  ...  Finally a transparant silicon case ^^ Thanks t...\n",
              "2   3  ...  We love this! Would you go? #talk #makememorie...\n",
              "3   4  ...  I'm wired I know I'm George I was made that wa...\n",
              "4   5  ...  What amazing service! Apple won't even talk to...\n",
              "\n",
              "[5 rows x 4 columns]"
            ]
          },
          "metadata": {
            "tags": []
          },
          "execution_count": 7
        }
      ]
    },
    {
      "cell_type": "code",
      "metadata": {
        "id": "7Ebqwo92Xymp",
        "colab_type": "code",
        "outputId": "d75b4993-f691-4d10-863d-d6eb900c66d8",
        "colab": {
          "base_uri": "https://localhost:8080/",
          "height": 289
        }
      },
      "source": [
        "test.head()"
      ],
      "execution_count": 0,
      "outputs": [
        {
          "output_type": "execute_result",
          "data": {
            "text/html": [
              "<div>\n",
              "<style scoped>\n",
              "    .dataframe tbody tr th:only-of-type {\n",
              "        vertical-align: middle;\n",
              "    }\n",
              "\n",
              "    .dataframe tbody tr th {\n",
              "        vertical-align: top;\n",
              "    }\n",
              "\n",
              "    .dataframe thead th {\n",
              "        text-align: right;\n",
              "    }\n",
              "</style>\n",
              "<table border=\"1\" class=\"dataframe\">\n",
              "  <thead>\n",
              "    <tr style=\"text-align: right;\">\n",
              "      <th></th>\n",
              "      <th>id</th>\n",
              "      <th>tweet</th>\n",
              "      <th>clean_tweet</th>\n",
              "    </tr>\n",
              "  </thead>\n",
              "  <tbody>\n",
              "    <tr>\n",
              "      <th>0</th>\n",
              "      <td>7921</td>\n",
              "      <td>I hate the new #iphone upgrade. Won't let me d...</td>\n",
              "      <td>I hate the new #iphone upgrade. Won't let me d...</td>\n",
              "    </tr>\n",
              "    <tr>\n",
              "      <th>1</th>\n",
              "      <td>7922</td>\n",
              "      <td>currently shitting my fucking pants. #apple #i...</td>\n",
              "      <td>currently shitting my fucking pants. #apple #i...</td>\n",
              "    </tr>\n",
              "    <tr>\n",
              "      <th>2</th>\n",
              "      <td>7923</td>\n",
              "      <td>I'd like to puts some CD-ROMS on my iPad, is t...</td>\n",
              "      <td>I'd like to puts some CD-ROMS on my iPad, is t...</td>\n",
              "    </tr>\n",
              "    <tr>\n",
              "      <th>3</th>\n",
              "      <td>7924</td>\n",
              "      <td>My ipod is officially dead. I lost all my pict...</td>\n",
              "      <td>My ipod is officially dead. I lost all my pict...</td>\n",
              "    </tr>\n",
              "    <tr>\n",
              "      <th>4</th>\n",
              "      <td>7925</td>\n",
              "      <td>Been fighting iTunes all night! I only want th...</td>\n",
              "      <td>Been fighting iTunes all night! I only want th...</td>\n",
              "    </tr>\n",
              "  </tbody>\n",
              "</table>\n",
              "</div>"
            ],
            "text/plain": [
              "     id  ...                                        clean_tweet\n",
              "0  7921  ...  I hate the new #iphone upgrade. Won't let me d...\n",
              "1  7922  ...  currently shitting my fucking pants. #apple #i...\n",
              "2  7923  ...  I'd like to puts some CD-ROMS on my iPad, is t...\n",
              "3  7924  ...  My ipod is officially dead. I lost all my pict...\n",
              "4  7925  ...  Been fighting iTunes all night! I only want th...\n",
              "\n",
              "[5 rows x 3 columns]"
            ]
          },
          "metadata": {
            "tags": []
          },
          "execution_count": 8
        }
      ]
    },
    {
      "cell_type": "markdown",
      "metadata": {
        "id": "1IUruyLxX25S",
        "colab_type": "text"
      },
      "source": [
        "Seems fitting enough to our task. Next, let's do the routine cleaning subject of all NLP tasks:"
      ]
    },
    {
      "cell_type": "code",
      "metadata": {
        "id": "2jD3-NkuYAKj",
        "colab_type": "code",
        "colab": {}
      },
      "source": [
        "punctuation = '!\"#$%&()*+-/:;<=>?@[\\\\]^_`{|}~'\n",
        "\n",
        "train['clean_tweet'] = train['clean_tweet'].apply(lambda x: ''.join(ch for ch in x if ch not in set(punctuation)))\n",
        "test['clean_tweet'] = test['clean_tweet'].apply(lambda x: ''.join(ch for ch in x if ch not in set(punctuation)))\n",
        "\n",
        "# convert text to lowercase\n",
        "train['clean_tweet'] = train['clean_tweet'].str.lower()\n",
        "test['clean_tweet'] = test['clean_tweet'].str.lower()\n",
        "\n",
        "# remove numbers\n",
        "train['clean_tweet'] = train['clean_tweet'].str.replace(\"[0-9]\", \" \")\n",
        "test['clean_tweet'] = test['clean_tweet'].str.replace(\"[0-9]\", \" \")\n",
        "\n",
        "# remove whitespaces\n",
        "train['clean_tweet'] = train['clean_tweet'].apply(lambda x:' '.join(x.split()))\n",
        "test['clean_tweet'] = test['clean_tweet'].apply(lambda x: ' '.join(x.split()))"
      ],
      "execution_count": 0,
      "outputs": []
    },
    {
      "cell_type": "markdown",
      "metadata": {
        "id": "aWIhO97BYLAY",
        "colab_type": "text"
      },
      "source": [
        "Another step would be to normalize the text. In the case of sentiment analysis, reducing a word to its base form can boon our model. \n",
        "\n",
        "For instance, the base form of the words *sucked*, *sucking*, and *sucks* is *suck*. Quite often, a sentiment can be analyzed by the base word alone."
      ]
    },
    {
      "cell_type": "code",
      "metadata": {
        "id": "Dvb3sRLTX0HO",
        "colab_type": "code",
        "colab": {}
      },
      "source": [
        "nlp = spacy.load('en', disable=['parser', 'ner'])\n",
        "\n",
        "def lemmatization(texts):\n",
        "    output = []\n",
        "    for i in texts:\n",
        "        s = [token.lemma_ for token in nlp(i)]\n",
        "        output.append(' '.join(s))\n",
        "    return output"
      ],
      "execution_count": 0,
      "outputs": []
    },
    {
      "cell_type": "code",
      "metadata": {
        "id": "uUukhDCpZSf8",
        "colab_type": "code",
        "colab": {}
      },
      "source": [
        "train['clean_tweet'] = lemmatization(train['clean_tweet'])\n",
        "test['clean_tweet'] = lemmatization(test['clean_tweet'])"
      ],
      "execution_count": 0,
      "outputs": []
    },
    {
      "cell_type": "markdown",
      "metadata": {
        "id": "e0j7Zk3bZbxP",
        "colab_type": "text"
      },
      "source": [
        "Now let's check out our original tweets and compare them with their cleaned versions:"
      ]
    },
    {
      "cell_type": "code",
      "metadata": {
        "id": "HdP2QeciZglr",
        "colab_type": "code",
        "outputId": "540a6ecd-7b49-49ec-95a0-8bcf41592973",
        "colab": {
          "base_uri": "https://localhost:8080/",
          "height": 529
        }
      },
      "source": [
        "train.sample(10)"
      ],
      "execution_count": 0,
      "outputs": [
        {
          "output_type": "execute_result",
          "data": {
            "text/html": [
              "<div>\n",
              "<style scoped>\n",
              "    .dataframe tbody tr th:only-of-type {\n",
              "        vertical-align: middle;\n",
              "    }\n",
              "\n",
              "    .dataframe tbody tr th {\n",
              "        vertical-align: top;\n",
              "    }\n",
              "\n",
              "    .dataframe thead th {\n",
              "        text-align: right;\n",
              "    }\n",
              "</style>\n",
              "<table border=\"1\" class=\"dataframe\">\n",
              "  <thead>\n",
              "    <tr style=\"text-align: right;\">\n",
              "      <th></th>\n",
              "      <th>id</th>\n",
              "      <th>label</th>\n",
              "      <th>tweet</th>\n",
              "      <th>clean_tweet</th>\n",
              "    </tr>\n",
              "  </thead>\n",
              "  <tbody>\n",
              "    <tr>\n",
              "      <th>2823</th>\n",
              "      <td>2824</td>\n",
              "      <td>0</td>\n",
              "      <td>Sunrise . . . #sky #skylovers #skyline #horizo...</td>\n",
              "      <td>sunrise . . . sky skylover skyline horizon clo...</td>\n",
              "    </tr>\n",
              "    <tr>\n",
              "      <th>3103</th>\n",
              "      <td>3104</td>\n",
              "      <td>0</td>\n",
              "      <td>pamela neighbours in love #Jeanne #and #pamela...</td>\n",
              "      <td>pamela neighbour in love jeanne and pamela nei...</td>\n",
              "    </tr>\n",
              "    <tr>\n",
              "      <th>7731</th>\n",
              "      <td>7732</td>\n",
              "      <td>0</td>\n",
              "      <td>hacker Wifi Password Prank https://goo.gl/uKuX...</td>\n",
              "      <td>hacker wifi password prank android app beautif...</td>\n",
              "    </tr>\n",
              "    <tr>\n",
              "      <th>3413</th>\n",
              "      <td>3414</td>\n",
              "      <td>0</td>\n",
              "      <td>I just want someone to me as much as my #iPhon...</td>\n",
              "      <td>i just want someone to -PRON- as much as -PRON...</td>\n",
              "    </tr>\n",
              "    <tr>\n",
              "      <th>2783</th>\n",
              "      <td>2784</td>\n",
              "      <td>0</td>\n",
              "      <td>Summer sunday morning #enjoyeverymoment #iphon...</td>\n",
              "      <td>summer sunday morning enjoyeverymoment iphone ...</td>\n",
              "    </tr>\n",
              "    <tr>\n",
              "      <th>3154</th>\n",
              "      <td>3155</td>\n",
              "      <td>0</td>\n",
              "      <td>@Xbox Any news as to when the new Nokia Lumia ...</td>\n",
              "      <td>xbox any news as to when the new nokia lumia w...</td>\n",
              "    </tr>\n",
              "    <tr>\n",
              "      <th>2983</th>\n",
              "      <td>2984</td>\n",
              "      <td>1</td>\n",
              "      <td>Just spent 40 freakin bucks on an iPhone charg...</td>\n",
              "      <td>just spend freakin buck on an iphone charger a...</td>\n",
              "    </tr>\n",
              "    <tr>\n",
              "      <th>5055</th>\n",
              "      <td>5056</td>\n",
              "      <td>0</td>\n",
              "      <td>Cakesmash #Sony #A6300 #Selp18105g #F4 #Cakesm...</td>\n",
              "      <td>cakesmash sony a selp g f cakesmash lumberjack...</td>\n",
              "    </tr>\n",
              "    <tr>\n",
              "      <th>5033</th>\n",
              "      <td>5034</td>\n",
              "      <td>0</td>\n",
              "      <td>i12 - \"APPLE\" #stevejobs #apple #iphone7 #ipho...</td>\n",
              "      <td>i apple stevejob apple iphone iphone plus ipad...</td>\n",
              "    </tr>\n",
              "    <tr>\n",
              "      <th>1082</th>\n",
              "      <td>1083</td>\n",
              "      <td>0</td>\n",
              "      <td>Happy new year freckles #freckles #portrait #s...</td>\n",
              "      <td>happy new year freckle freckle portrait smile ...</td>\n",
              "    </tr>\n",
              "  </tbody>\n",
              "</table>\n",
              "</div>"
            ],
            "text/plain": [
              "        id  ...                                        clean_tweet\n",
              "2823  2824  ...  sunrise . . . sky skylover skyline horizon clo...\n",
              "3103  3104  ...  pamela neighbour in love jeanne and pamela nei...\n",
              "7731  7732  ...  hacker wifi password prank android app beautif...\n",
              "3413  3414  ...  i just want someone to -PRON- as much as -PRON...\n",
              "2783  2784  ...  summer sunday morning enjoyeverymoment iphone ...\n",
              "3154  3155  ...  xbox any news as to when the new nokia lumia w...\n",
              "2983  2984  ...  just spend freakin buck on an iphone charger a...\n",
              "5055  5056  ...  cakesmash sony a selp g f cakesmash lumberjack...\n",
              "5033  5034  ...  i apple stevejob apple iphone iphone plus ipad...\n",
              "1082  1083  ...  happy new year freckle freckle portrait smile ...\n",
              "\n",
              "[10 rows x 4 columns]"
            ]
          },
          "metadata": {
            "tags": []
          },
          "execution_count": 12
        }
      ]
    },
    {
      "cell_type": "code",
      "metadata": {
        "id": "BMldV9Kxdwig",
        "colab_type": "code",
        "outputId": "91411979-22a3-4e50-8fe8-c97063cc9b0b",
        "colab": {
          "base_uri": "https://localhost:8080/",
          "height": 445
        }
      },
      "source": [
        "!pip install \"tensorflow>=1.7.0\"\n",
        "!pip install tensorflow-hub"
      ],
      "execution_count": 0,
      "outputs": [
        {
          "output_type": "stream",
          "text": [
            "Requirement already satisfied: tensorflow>=1.7.0 in /usr/local/lib/python3.6/dist-packages (1.13.1)\n",
            "Requirement already satisfied: absl-py>=0.1.6 in /usr/local/lib/python3.6/dist-packages (from tensorflow>=1.7.0) (0.7.1)\n",
            "Requirement already satisfied: grpcio>=1.8.6 in /usr/local/lib/python3.6/dist-packages (from tensorflow>=1.7.0) (1.15.0)\n",
            "Requirement already satisfied: numpy>=1.13.3 in /usr/local/lib/python3.6/dist-packages (from tensorflow>=1.7.0) (1.16.4)\n",
            "Requirement already satisfied: six>=1.10.0 in /usr/local/lib/python3.6/dist-packages (from tensorflow>=1.7.0) (1.12.0)\n",
            "Requirement already satisfied: tensorboard<1.14.0,>=1.13.0 in /usr/local/lib/python3.6/dist-packages (from tensorflow>=1.7.0) (1.13.1)\n",
            "Requirement already satisfied: tensorflow-estimator<1.14.0rc0,>=1.13.0 in /usr/local/lib/python3.6/dist-packages (from tensorflow>=1.7.0) (1.13.0)\n",
            "Requirement already satisfied: keras-preprocessing>=1.0.5 in /usr/local/lib/python3.6/dist-packages (from tensorflow>=1.7.0) (1.1.0)\n",
            "Requirement already satisfied: astor>=0.6.0 in /usr/local/lib/python3.6/dist-packages (from tensorflow>=1.7.0) (0.8.0)\n",
            "Requirement already satisfied: termcolor>=1.1.0 in /usr/local/lib/python3.6/dist-packages (from tensorflow>=1.7.0) (1.1.0)\n",
            "Requirement already satisfied: keras-applications>=1.0.6 in /usr/local/lib/python3.6/dist-packages (from tensorflow>=1.7.0) (1.0.8)\n",
            "Requirement already satisfied: protobuf>=3.6.1 in /usr/local/lib/python3.6/dist-packages (from tensorflow>=1.7.0) (3.7.1)\n",
            "Requirement already satisfied: wheel>=0.26 in /usr/local/lib/python3.6/dist-packages (from tensorflow>=1.7.0) (0.33.4)\n",
            "Requirement already satisfied: gast>=0.2.0 in /usr/local/lib/python3.6/dist-packages (from tensorflow>=1.7.0) (0.2.2)\n",
            "Requirement already satisfied: werkzeug>=0.11.15 in /usr/local/lib/python3.6/dist-packages (from tensorboard<1.14.0,>=1.13.0->tensorflow>=1.7.0) (0.15.4)\n",
            "Requirement already satisfied: markdown>=2.6.8 in /usr/local/lib/python3.6/dist-packages (from tensorboard<1.14.0,>=1.13.0->tensorflow>=1.7.0) (3.1.1)\n",
            "Requirement already satisfied: mock>=2.0.0 in /usr/local/lib/python3.6/dist-packages (from tensorflow-estimator<1.14.0rc0,>=1.13.0->tensorflow>=1.7.0) (3.0.5)\n",
            "Requirement already satisfied: h5py in /usr/local/lib/python3.6/dist-packages (from keras-applications>=1.0.6->tensorflow>=1.7.0) (2.8.0)\n",
            "Requirement already satisfied: setuptools in /usr/local/lib/python3.6/dist-packages (from protobuf>=3.6.1->tensorflow>=1.7.0) (41.0.1)\n",
            "Requirement already satisfied: tensorflow-hub in /usr/local/lib/python3.6/dist-packages (0.4.0)\n",
            "Requirement already satisfied: protobuf>=3.4.0 in /usr/local/lib/python3.6/dist-packages (from tensorflow-hub) (3.7.1)\n",
            "Requirement already satisfied: six>=1.10.0 in /usr/local/lib/python3.6/dist-packages (from tensorflow-hub) (1.12.0)\n",
            "Requirement already satisfied: numpy>=1.12.0 in /usr/local/lib/python3.6/dist-packages (from tensorflow-hub) (1.16.4)\n",
            "Requirement already satisfied: setuptools in /usr/local/lib/python3.6/dist-packages (from protobuf>=3.4.0->tensorflow-hub) (41.0.1)\n"
          ],
          "name": "stdout"
        }
      ]
    },
    {
      "cell_type": "code",
      "metadata": {
        "id": "o6e_Xib1dmjK",
        "colab_type": "code",
        "outputId": "66f46bc5-b852-4b4d-f283-7aa86bdf4ebb",
        "colab": {
          "base_uri": "https://localhost:8080/",
          "height": 122
        }
      },
      "source": [
        "import tensorflow_hub as hub\n",
        "import tensorflow as tf\n",
        "\n",
        "elmo = hub.Module(\"https://tfhub.dev/google/elmo/2\", trainable=True)"
      ],
      "execution_count": 0,
      "outputs": [
        {
          "output_type": "stream",
          "text": [
            "WARNING: Logging before flag parsing goes to stderr.\n",
            "W0610 17:51:19.924640 140589041088384 __init__.py:56] Some hub symbols are not available because TensorFlow version is less than 1.14\n",
            "W0610 17:51:20.386457 140589041088384 deprecation.py:323] From /usr/local/lib/python3.6/dist-packages/tensorflow/python/ops/control_flow_ops.py:3632: colocate_with (from tensorflow.python.framework.ops) is deprecated and will be removed in a future version.\n",
            "Instructions for updating:\n",
            "Colocations handled automatically by placer.\n"
          ],
          "name": "stderr"
        }
      ]
    },
    {
      "cell_type": "code",
      "metadata": {
        "id": "s_EHbc6vd5pM",
        "colab_type": "code",
        "outputId": "16d0ae82-c3ac-45fb-dc9b-f31f2badd1e6",
        "colab": {
          "base_uri": "https://localhost:8080/",
          "height": 34
        }
      },
      "source": [
        "# write a random sentence as an example for ELMo\n",
        "x = [\"Roasted ants are a popular snack in Columbia\"]\n",
        "\n",
        "# extract ELMo features \n",
        "embeddings = elmo(x, signature=\"default\", as_dict=True)[\"elmo\"]\n",
        "\n",
        "embeddings.shape"
      ],
      "execution_count": 0,
      "outputs": [
        {
          "output_type": "execute_result",
          "data": {
            "text/plain": [
              "TensorShape([Dimension(1), Dimension(8), Dimension(1024)])"
            ]
          },
          "metadata": {
            "tags": []
          },
          "execution_count": 15
        }
      ]
    },
    {
      "cell_type": "markdown",
      "metadata": {
        "id": "rckslShveGuU",
        "colab_type": "text"
      },
      "source": [
        "TensorShape(*D1*, *D2*, *D3*), or, a three-dimensional tensor of shape (1, 8, 1024):\n",
        "\n",
        "\n",
        "D1.   The number of training samples\n",
        "\n",
        "D2.   The maximum length of the longest string in the input list of strings\n",
        "\n",
        "D3.   The length of the ELMo vector\n",
        "\n"
      ]
    },
    {
      "cell_type": "markdown",
      "metadata": {
        "id": "wqk3ruOvf16S",
        "colab_type": "text"
      },
      "source": [
        "Let's use a function that extracts the ELMo vectors for the cleaned tweets in the train and test datasets. \n",
        "\n",
        "Then, to arrive at the vector representation of an entire tweet, we take the mean of the ELMo vectors of constituent terms or tokens of the tweet."
      ]
    },
    {
      "cell_type": "code",
      "metadata": {
        "id": "uK2YVhOdeDsp",
        "colab_type": "code",
        "colab": {}
      },
      "source": [
        "def elmo_vectors(x):\n",
        "  embeddings = elmo(x.tolist(), signature=\"default\", as_dict=True)[\"elmo\"]\n",
        "\n",
        "  with tf.Session() as sess:\n",
        "    sess.run(tf.global_variables_initializer())\n",
        "    sess.run(tf.tables_initializer())\n",
        "    # return average of ELMo features\n",
        "    return sess.run(tf.reduce_mean(embeddings,1))"
      ],
      "execution_count": 0,
      "outputs": []
    },
    {
      "cell_type": "markdown",
      "metadata": {
        "id": "hfGOcm2kgNhQ",
        "colab_type": "text"
      },
      "source": [
        "Split both train and test sets into batches of one-hundred samples each to prevent from running out of memory while running the above function:"
      ]
    },
    {
      "cell_type": "code",
      "metadata": {
        "id": "WXa6ByT7gWGY",
        "colab_type": "code",
        "colab": {}
      },
      "source": [
        "list_train = [train[i:i+100] for i in range(0,train.shape[0],100)]\n",
        "list_test = [test[i:i+100] for i in range(0,test.shape[0],100)]"
      ],
      "execution_count": 0,
      "outputs": []
    },
    {
      "cell_type": "markdown",
      "metadata": {
        "id": "AzNTdW7wga49",
        "colab_type": "text"
      },
      "source": [
        "Now iterate through these batches and extract ELMo vectors:"
      ]
    },
    {
      "cell_type": "code",
      "metadata": {
        "id": "0W_yI_SoggJQ",
        "colab_type": "code",
        "colab": {}
      },
      "source": [
        "# Extract ELMo embeddings\n",
        "elmo_train = [elmo_vectors(x['clean_tweet']) for x in list_train]\n",
        "elmo_test = [elmo_vectors(x['clean_tweet']) for x in list_test]"
      ],
      "execution_count": 0,
      "outputs": []
    },
    {
      "cell_type": "markdown",
      "metadata": {
        "id": "nVS0Bnckrblx",
        "colab_type": "text"
      },
      "source": [
        "Concatenate all the vectors back to a single array:"
      ]
    },
    {
      "cell_type": "code",
      "metadata": {
        "id": "ngaij6t_rWMF",
        "colab_type": "code",
        "colab": {}
      },
      "source": [
        "elmo_train_new = np.concatenate(elmo_train, axis = 0)\n",
        "elmo_test_new = np.concatenate(elmo_test, axis = 0)"
      ],
      "execution_count": 0,
      "outputs": []
    },
    {
      "cell_type": "markdown",
      "metadata": {
        "id": "aNUJZoRLrpQU",
        "colab_type": "text"
      },
      "source": [
        "Save the ELMo vectorized array as *pickle* files:"
      ]
    },
    {
      "cell_type": "code",
      "metadata": {
        "id": "4Rud3yI0rtyM",
        "colab_type": "code",
        "colab": {}
      },
      "source": [
        "pickle_out = open(\"elmo_train_03032019.pickle\",\"wb\")\n",
        "pickle.dump(elmo_train_new, pickle_out)\n",
        "pickle_out.close()\n",
        "\n",
        "# save elmo_test_new\n",
        "pickle_out = open(\"elmo_test_03032019.pickle\",\"wb\")\n",
        "pickle.dump(elmo_test_new, pickle_out)\n",
        "pickle_out.close()"
      ],
      "execution_count": 0,
      "outputs": []
    },
    {
      "cell_type": "markdown",
      "metadata": {
        "id": "jlU3d5hDr2T1",
        "colab_type": "text"
      },
      "source": [
        "Load the pickle files into which we have saved out ELMo vectorized array:"
      ]
    },
    {
      "cell_type": "code",
      "metadata": {
        "id": "YEuw3ZE6r0rE",
        "colab_type": "code",
        "colab": {}
      },
      "source": [
        "pickle_in = open(\"elmo_train_03032019.pickle\", \"rb\")\n",
        "elmo_train_new = pickle.load(pickle_in)\n",
        "\n",
        "# load elmo_train_new\n",
        "pickle_in = open(\"elmo_test_03032019.pickle\", \"rb\")\n",
        "elmo_test_new = pickle.load(pickle_in)"
      ],
      "execution_count": 0,
      "outputs": []
    },
    {
      "cell_type": "code",
      "metadata": {
        "id": "8l-QpG_9sFdz",
        "colab_type": "code",
        "colab": {}
      },
      "source": [
        "from sklearn.model_selection import train_test_split\n",
        "\n",
        "xtrain, xvalid, ytrain, yvalid = train_test_split(elmo_train_new, \n",
        "                                                  train['label'],  \n",
        "                                                  random_state=42, \n",
        "                                                  test_size=0.2)"
      ],
      "execution_count": 0,
      "outputs": []
    },
    {
      "cell_type": "code",
      "metadata": {
        "id": "PMaUOla5sHGD",
        "colab_type": "code",
        "outputId": "f6e9db53-353b-40b6-f138-86f6b7552f31",
        "colab": {
          "base_uri": "https://localhost:8080/",
          "height": 156
        }
      },
      "source": [
        "from sklearn.linear_model import LogisticRegression\n",
        "from sklearn.metrics import f1_score\n",
        "\n",
        "lreg = LogisticRegression()\n",
        "lreg.fit(xtrain, ytrain)"
      ],
      "execution_count": 0,
      "outputs": [
        {
          "output_type": "stream",
          "text": [
            "/usr/local/lib/python3.6/dist-packages/sklearn/linear_model/logistic.py:432: FutureWarning: Default solver will be changed to 'lbfgs' in 0.22. Specify a solver to silence this warning.\n",
            "  FutureWarning)\n"
          ],
          "name": "stderr"
        },
        {
          "output_type": "execute_result",
          "data": {
            "text/plain": [
              "LogisticRegression(C=1.0, class_weight=None, dual=False, fit_intercept=True,\n",
              "                   intercept_scaling=1, l1_ratio=None, max_iter=100,\n",
              "                   multi_class='warn', n_jobs=None, penalty='l2',\n",
              "                   random_state=None, solver='warn', tol=0.0001, verbose=0,\n",
              "                   warm_start=False)"
            ]
          },
          "metadata": {
            "tags": []
          },
          "execution_count": 25
        }
      ]
    },
    {
      "cell_type": "code",
      "metadata": {
        "id": "rY-l5wKHsMpc",
        "colab_type": "code",
        "colab": {}
      },
      "source": [
        "preds_valid = lreg.predict(xvalid)"
      ],
      "execution_count": 0,
      "outputs": []
    },
    {
      "cell_type": "code",
      "metadata": {
        "id": "ibtr8-egsOct",
        "colab_type": "code",
        "outputId": "398b9796-b184-43e0-b66f-05473ed346aa",
        "colab": {
          "base_uri": "https://localhost:8080/",
          "height": 34
        }
      },
      "source": [
        "f1_score(yvalid, preds_valid)"
      ],
      "execution_count": 0,
      "outputs": [
        {
          "output_type": "execute_result",
          "data": {
            "text/plain": [
              "0.7752675386444708"
            ]
          },
          "metadata": {
            "tags": []
          },
          "execution_count": 27
        }
      ]
    },
    {
      "cell_type": "code",
      "metadata": {
        "id": "lmOWa2C8sQ1m",
        "colab_type": "code",
        "colab": {}
      },
      "source": [
        "preds_test = lreg.predict(elmo_test_new)"
      ],
      "execution_count": 0,
      "outputs": []
    },
    {
      "cell_type": "code",
      "metadata": {
        "id": "JC7pnZ_MsTl6",
        "colab_type": "code",
        "colab": {}
      },
      "source": [
        "# prepare submission dataframe\n",
        "sub = pd.DataFrame({'id':test['id'], 'label':preds_test})\n",
        "\n",
        "# write predictions to a CSV file\n",
        "sub.to_csv(\"sub_lreg.csv\", index=False)"
      ],
      "execution_count": 0,
      "outputs": []
    },
    {
      "cell_type": "markdown",
      "metadata": {
        "id": "f1cNIeBidbMZ",
        "colab_type": "text"
      },
      "source": [
        "# Future Considerations\n",
        "\n",
        "---\n",
        "\n",
        "Working on ELMo embeddings with fastai and PyTorch as opposed to TensorFlow Hub."
      ]
    }
  ]
}